{
 "cells": [
  {
   "cell_type": "markdown",
   "id": "3b55de89",
   "metadata": {},
   "source": [
    "# Google Cloud setup"
   ]
  },
  {
   "cell_type": "markdown",
   "id": "a96a7f33",
   "metadata": {},
   "source": [
    "This optional lab outlines the steps you will need to take to use Google Cloud and Vertex AI for your own projects.\n",
    "\n",
    "**Note**: To try this out yourself, please download this notebook and run it on your local computer."
   ]
  },
  {
   "cell_type": "markdown",
   "id": "a33d2a00",
   "metadata": {},
   "source": [
    "## Create a Google Cloud Project\n",
    "\n",
    "Google Cloud projects form the basis for creating, enabling, and using all Google Cloud services including managing APIs, enabling billing, adding and removing collaborators, and managing permissions for Google Cloud resources.\n",
    "\n",
    "#### Things to Consider\n",
    "1. You can create a [free project](https://cloud.google.com/free/docs/gcp-free-tier) which includes a 90-day $300 Free Trial.\n",
    "2. You will be prompted to create a new project the first time you visit the [Cloud Console](https://console.cloud.google.com) \n",
    "3. Your usage of Google Cloud tools is always associated with a project."
   ]
  },
  {
   "cell_type": "markdown",
   "id": "6a2b2be3",
   "metadata": {},
   "source": [
    "   >Learn more about projects [here.](https://cloud.google.com/resource-manager/docs/creating-managing-projects)"
   ]
  },
  {
   "cell_type": "markdown",
   "id": "0849a294",
   "metadata": {},
   "source": [
    "## Billing\n",
    "\n",
    "- A Cloud Billing account is used to define who pays for a given set of resources, and it can be linked to one or more projects.\n",
    "- Project usage is charged to the linked Cloud Billing account.\n",
    "- Within your project, configure billing by selecting \"Billing\" in the drop-down menu on the left.\n",
    "\n",
    "**Make sure that **billing is enabled** for your Google Cloud project, [_click here_](https://cloud.google.com/billing/docs/how-to/modify-project) to learn how to confirm that billing is enabled.**"
   ]
  },
  {
   "cell_type": "markdown",
   "id": "1ecd6118",
   "metadata": {},
   "source": [
    "## Enable APIs"
   ]
  },
  {
   "cell_type": "markdown",
   "id": "214005bc",
   "metadata": {},
   "source": [
    "Once you have a project set up with a billing account, you will need to enable any services you want to use."
   ]
  },
  {
   "cell_type": "markdown",
   "id": "ef0b6159",
   "metadata": {},
   "source": [
    "#### [_Click here_](https://console.cloud.google.com/flows/enableapi?apiid=aiplatform.googleapis.com,bigquery.googleapis.com,iam.googleapis.com) to **enable the following APIs** in your Google Cloud project:\n",
    "   \n",
    "- Vertex AI  \n",
    "- BigQuery  \n",
    "- IAM"
   ]
  },
  {
   "cell_type": "markdown",
   "id": "e6044062",
   "metadata": {},
   "source": [
    "## Create service account\n",
    "- You will need to create a service account and give it access to the Google Cloud services you want to use. \n",
    "- A service account is a special kind of account typically used by an application or compute workload, such as a Compute Engine instance, rather than a person. \n",
    "- A service account is identified by its email address, which is unique to the account.\n",
    "  \n",
    ">To learn more, check out [this intro video](https://www.youtube.com/watch?v=xXk1YlkKW_k)."
   ]
  },
  {
   "cell_type": "markdown",
   "id": "197e083e",
   "metadata": {},
   "source": [
    "#### 1. Go to the [Create Service Account](https://console.cloud.google.com/projectselector/iam-admin/serviceaccounts/create?walkthrough_id=iam--create-service-account&_ga=2.184446630.1022340625.1692280734-338572696.1692280734#step_index=1) page and **select your project**"
   ]
  },
  {
   "cell_type": "markdown",
   "id": "456d9360",
   "metadata": {},
   "source": [
    "#### 2. Give the account a name (you can pick anything)"
   ]
  },
  {
   "cell_type": "markdown",
   "id": "a135316d",
   "metadata": {},
   "source": [
    "#### 3. Grant the account the following permissions\n",
    "\n",
    "![grant permissions](images/sa_permissions.png)"
   ]
  },
  {
   "cell_type": "markdown",
   "id": "34c4387e",
   "metadata": {},
   "source": [
    "## Create Service Account key\n",
    "Once you have created your service account, you need to create a key.\n",
    "\n",
    "### 1. Select your newly created service account then click. ADD KEY -> create new key."
   ]
  },
  {
   "cell_type": "markdown",
   "id": "82f5d347",
   "metadata": {},
   "source": [
    "### 2. Select JSON key type and click create\n",
    "\n",
    "![JSON key](images/json_key.png)\n",
    "\n",
    "\n",
    "> Clicking Create downloads a service account key file. After you download the key file, you cannot download it again."
   ]
  },
  {
   "cell_type": "markdown",
   "id": "f7818c66",
   "metadata": {},
   "source": [
    "## Create credentials"
   ]
  },
  {
   "cell_type": "markdown",
   "id": "192845ec",
   "metadata": {},
   "source": [
    ">- **To use Vertex AI services, you will need to authenticate with your credentials.**\n",
    ">- **Using the JSON file you just downloaded, you will create a credentials object.**"
   ]
  },
  {
   "cell_type": "code",
   "execution_count": 1,
   "id": "18e2c0c5",
   "metadata": {},
   "outputs": [],
   "source": [
    "from google.auth.transport.requests import Request\n",
    "from google.oauth2.service_account import Credentials"
   ]
  },
  {
   "cell_type": "code",
   "execution_count": 5,
   "id": "6501459a",
   "metadata": {},
   "outputs": [],
   "source": [
    "# Path to your service account key file\n",
    "key_path = '../key/prjct1-466121-beed6eec3f77.json' #Path to the JSON key associated with your service account from Google Cloud"
   ]
  },
  {
   "cell_type": "code",
   "execution_count": 6,
   "id": "eed553cc",
   "metadata": {},
   "outputs": [],
   "source": [
    "# Create credentials object\n",
    "\n",
    "credentials = Credentials.from_service_account_file(\n",
    "    key_path,\n",
    "    scopes=['https://www.googleapis.com/auth/cloud-platform'])\n",
    "\n",
    "if credentials.expired:\n",
    "    credentials.refresh(Request())"
   ]
  },
  {
   "cell_type": "markdown",
   "id": "4894fdca",
   "metadata": {},
   "source": [
    "## Set up a Google Cloud Storage Bucket"
   ]
  },
  {
   "cell_type": "markdown",
   "id": "a27dac26",
   "metadata": {},
   "source": [
    "[Cloud Storage](https://cloud.google.com/storage/docs/buckets) is Google Cloud's object storage. Object storage means you can store images, CSV files, TXT files, and saved model artifacts.\n",
    "\n",
    "- Cloud storage has the concept of a “bucket” which is what holds your data.\n",
    "- Everything you store in Cloud Storage must be contained in a bucket. Within a bucket, you can create folders to organize your data.\n",
    "- Each file in Cloud Storage has a path, just like a file on your local file system. **Cloud Storage paths always start with `gs://`**"
   ]
  },
  {
   "cell_type": "markdown",
   "id": "6a91280d",
   "metadata": {},
   "source": [
    "## Create a new bucket\n",
    "\n",
    "Click [here](https://console.cloud.google.com/storage/browser) to go to the Cloud Storage section of the Cloud Console or navigate there manually by selecting **Cloud Storage > Buckets** from the drop-down menu in the Cloud Console."
   ]
  },
  {
   "cell_type": "markdown",
   "id": "9ed18cdd",
   "metadata": {},
   "source": [
    "## Select **CREATE**\n",
    "\n",
    "![create new bucket](images/create-new-bucket.jpg)"
   ]
  },
  {
   "cell_type": "markdown",
   "id": "1f0951f8",
   "metadata": {},
   "source": [
    "### Give your bucket a **name**, set the **region**, and click **CREATE**.\n",
    "\n",
    "In general, the best region to select will depend on where you're located as well as the requirements of the service you want to use this data with.\n",
    "\n",
    "> US or EU multiregion are good defaults.\n",
    "\n",
    "![Config bucket](images/bucket-config.jpg)"
   ]
  },
  {
   "cell_type": "markdown",
   "id": "6b38a244",
   "metadata": {},
   "source": [
    "<pre>\n",
    "\n",
    "\n",
    "</pre>\n",
    "\n",
    "Once you have created your **bucket**, you can upload files or create directories.\n",
    "\n",
    "\n",
    "![bucket](images/bucket.jpg)\n",
    "\n",
    "<pre>\n",
    "\n",
    "\n",
    "</pre>\n",
    "\n",
    "The path to your bucket is `gs://{name_of_your_bucket}`"
   ]
  },
  {
   "cell_type": "markdown",
   "id": "a1119972",
   "metadata": {},
   "source": [
    "### Connect to Vertex AI\n",
    "\n",
    "Once you have a project and your credentials ready, you can use Vertex AI tools.\n",
    "\n",
    "[**Copy your project ID**](https://cloud.google.com/resource-manager/docs/creating-managing-projects) and paste it in the `PROJECT_ID` field below."
   ]
  },
  {
   "cell_type": "code",
   "execution_count": 9,
   "id": "931aef04",
   "metadata": {},
   "outputs": [],
   "source": [
    "PROJECT_ID = 'prjct1-466121'\n",
    "REGION = 'us-west2'"
   ]
  },
  {
   "cell_type": "code",
   "execution_count": 15,
   "id": "ecc0b39f",
   "metadata": {},
   "outputs": [
    {
     "name": "stdout",
     "output_type": "stream",
     "text": [
      "Collecting google-cloud-aiplatform\n",
      "  Using cached google_cloud_aiplatform-1.105.0-py2.py3-none-any.whl.metadata (38 kB)\n",
      "Requirement already satisfied: google-api-core!=2.0.*,!=2.1.*,!=2.2.*,!=2.3.*,!=2.4.*,!=2.5.*,!=2.6.*,!=2.7.*,<3.0.0,>=1.34.1 in /Users/milani/miniconda3/envs/carboncomputing/lib/python3.11/site-packages (from google-api-core[grpc]!=2.0.*,!=2.1.*,!=2.2.*,!=2.3.*,!=2.4.*,!=2.5.*,!=2.6.*,!=2.7.*,<3.0.0,>=1.34.1->google-cloud-aiplatform) (2.25.1)\n",
      "Requirement already satisfied: google-auth<3.0.0,>=2.14.1 in /Users/milani/miniconda3/envs/carboncomputing/lib/python3.11/site-packages (from google-cloud-aiplatform) (2.40.3)\n",
      "Requirement already satisfied: proto-plus<2.0.0,>=1.22.3 in /Users/milani/miniconda3/envs/carboncomputing/lib/python3.11/site-packages (from google-cloud-aiplatform) (1.26.1)\n",
      "Requirement already satisfied: protobuf!=4.21.0,!=4.21.1,!=4.21.2,!=4.21.3,!=4.21.4,!=4.21.5,<7.0.0,>=3.20.2 in /Users/milani/miniconda3/envs/carboncomputing/lib/python3.11/site-packages (from google-cloud-aiplatform) (6.31.1)\n",
      "Requirement already satisfied: packaging>=14.3 in /Users/milani/miniconda3/envs/carboncomputing/lib/python3.11/site-packages (from google-cloud-aiplatform) (25.0)\n",
      "Collecting google-cloud-storage<3.0.0,>=1.32.0 (from google-cloud-aiplatform)\n",
      "  Downloading google_cloud_storage-2.19.0-py2.py3-none-any.whl.metadata (9.1 kB)\n",
      "Requirement already satisfied: google-cloud-bigquery!=3.20.0,<4.0.0,>=1.15.0 in /Users/milani/miniconda3/envs/carboncomputing/lib/python3.11/site-packages (from google-cloud-aiplatform) (3.35.0)\n",
      "Collecting google-cloud-resource-manager<3.0.0,>=1.3.3 (from google-cloud-aiplatform)\n",
      "  Downloading google_cloud_resource_manager-1.14.2-py3-none-any.whl.metadata (9.6 kB)\n",
      "Collecting shapely<3.0.0 (from google-cloud-aiplatform)\n",
      "  Downloading shapely-2.1.1-cp311-cp311-macosx_10_9_x86_64.whl.metadata (6.8 kB)\n",
      "Collecting google-genai<2.0.0,>=1.0.0 (from google-cloud-aiplatform)\n",
      "  Downloading google_genai-1.26.0-py3-none-any.whl.metadata (42 kB)\n",
      "Collecting pydantic<3 (from google-cloud-aiplatform)\n",
      "  Using cached pydantic-2.11.7-py3-none-any.whl.metadata (67 kB)\n",
      "Requirement already satisfied: typing_extensions in /Users/milani/miniconda3/envs/carboncomputing/lib/python3.11/site-packages (from google-cloud-aiplatform) (4.14.1)\n",
      "Collecting docstring_parser<1 (from google-cloud-aiplatform)\n",
      "  Downloading docstring_parser-0.17.0-py3-none-any.whl.metadata (3.5 kB)\n",
      "Requirement already satisfied: googleapis-common-protos<2.0.0,>=1.56.2 in /Users/milani/miniconda3/envs/carboncomputing/lib/python3.11/site-packages (from google-api-core!=2.0.*,!=2.1.*,!=2.2.*,!=2.3.*,!=2.4.*,!=2.5.*,!=2.6.*,!=2.7.*,<3.0.0,>=1.34.1->google-api-core[grpc]!=2.0.*,!=2.1.*,!=2.2.*,!=2.3.*,!=2.4.*,!=2.5.*,!=2.6.*,!=2.7.*,<3.0.0,>=1.34.1->google-cloud-aiplatform) (1.70.0)\n",
      "Requirement already satisfied: requests<3.0.0,>=2.18.0 in /Users/milani/miniconda3/envs/carboncomputing/lib/python3.11/site-packages (from google-api-core!=2.0.*,!=2.1.*,!=2.2.*,!=2.3.*,!=2.4.*,!=2.5.*,!=2.6.*,!=2.7.*,<3.0.0,>=1.34.1->google-api-core[grpc]!=2.0.*,!=2.1.*,!=2.2.*,!=2.3.*,!=2.4.*,!=2.5.*,!=2.6.*,!=2.7.*,<3.0.0,>=1.34.1->google-cloud-aiplatform) (2.32.4)\n",
      "Requirement already satisfied: grpcio<2.0.0,>=1.33.2 in /Users/milani/miniconda3/envs/carboncomputing/lib/python3.11/site-packages (from google-api-core[grpc]!=2.0.*,!=2.1.*,!=2.2.*,!=2.3.*,!=2.4.*,!=2.5.*,!=2.6.*,!=2.7.*,<3.0.0,>=1.34.1->google-cloud-aiplatform) (1.73.1)\n",
      "Requirement already satisfied: grpcio-status<2.0.0,>=1.33.2 in /Users/milani/miniconda3/envs/carboncomputing/lib/python3.11/site-packages (from google-api-core[grpc]!=2.0.*,!=2.1.*,!=2.2.*,!=2.3.*,!=2.4.*,!=2.5.*,!=2.6.*,!=2.7.*,<3.0.0,>=1.34.1->google-cloud-aiplatform) (1.73.1)\n",
      "Requirement already satisfied: cachetools<6.0,>=2.0.0 in /Users/milani/miniconda3/envs/carboncomputing/lib/python3.11/site-packages (from google-auth<3.0.0,>=2.14.1->google-cloud-aiplatform) (5.5.2)\n",
      "Requirement already satisfied: pyasn1-modules>=0.2.1 in /Users/milani/miniconda3/envs/carboncomputing/lib/python3.11/site-packages (from google-auth<3.0.0,>=2.14.1->google-cloud-aiplatform) (0.4.2)\n",
      "Requirement already satisfied: rsa<5,>=3.1.4 in /Users/milani/miniconda3/envs/carboncomputing/lib/python3.11/site-packages (from google-auth<3.0.0,>=2.14.1->google-cloud-aiplatform) (4.9.1)\n",
      "Requirement already satisfied: google-cloud-core<3.0.0,>=2.4.1 in /Users/milani/miniconda3/envs/carboncomputing/lib/python3.11/site-packages (from google-cloud-bigquery!=3.20.0,<4.0.0,>=1.15.0->google-cloud-aiplatform) (2.4.3)\n",
      "Requirement already satisfied: google-resumable-media<3.0.0,>=2.0.0 in /Users/milani/miniconda3/envs/carboncomputing/lib/python3.11/site-packages (from google-cloud-bigquery!=3.20.0,<4.0.0,>=1.15.0->google-cloud-aiplatform) (2.7.2)\n",
      "Requirement already satisfied: python-dateutil<3.0.0,>=2.8.2 in /Users/milani/miniconda3/envs/carboncomputing/lib/python3.11/site-packages (from google-cloud-bigquery!=3.20.0,<4.0.0,>=1.15.0->google-cloud-aiplatform) (2.9.0.post0)\n",
      "Collecting grpc-google-iam-v1<1.0.0,>=0.14.0 (from google-cloud-resource-manager<3.0.0,>=1.3.3->google-cloud-aiplatform)\n",
      "  Downloading grpc_google_iam_v1-0.14.2-py3-none-any.whl.metadata (9.1 kB)\n",
      "Requirement already satisfied: google-crc32c<2.0dev,>=1.0 in /Users/milani/miniconda3/envs/carboncomputing/lib/python3.11/site-packages (from google-cloud-storage<3.0.0,>=1.32.0->google-cloud-aiplatform) (1.7.1)\n",
      "Collecting anyio<5.0.0,>=4.8.0 (from google-genai<2.0.0,>=1.0.0->google-cloud-aiplatform)\n",
      "  Using cached anyio-4.9.0-py3-none-any.whl.metadata (4.7 kB)\n",
      "Collecting httpx<1.0.0,>=0.28.1 (from google-genai<2.0.0,>=1.0.0->google-cloud-aiplatform)\n",
      "  Using cached httpx-0.28.1-py3-none-any.whl.metadata (7.1 kB)\n",
      "Collecting tenacity<9.0.0,>=8.2.3 (from google-genai<2.0.0,>=1.0.0->google-cloud-aiplatform)\n",
      "  Downloading tenacity-8.5.0-py3-none-any.whl.metadata (1.2 kB)\n",
      "Collecting websockets<15.1.0,>=13.0.0 (from google-genai<2.0.0,>=1.0.0->google-cloud-aiplatform)\n",
      "  Downloading websockets-15.0.1-cp311-cp311-macosx_10_9_x86_64.whl.metadata (6.8 kB)\n",
      "Requirement already satisfied: idna>=2.8 in /Users/milani/miniconda3/envs/carboncomputing/lib/python3.11/site-packages (from anyio<5.0.0,>=4.8.0->google-genai<2.0.0,>=1.0.0->google-cloud-aiplatform) (3.10)\n",
      "Collecting sniffio>=1.1 (from anyio<5.0.0,>=4.8.0->google-genai<2.0.0,>=1.0.0->google-cloud-aiplatform)\n",
      "  Using cached sniffio-1.3.1-py3-none-any.whl.metadata (3.9 kB)\n",
      "Requirement already satisfied: certifi in /Users/milani/miniconda3/envs/carboncomputing/lib/python3.11/site-packages (from httpx<1.0.0,>=0.28.1->google-genai<2.0.0,>=1.0.0->google-cloud-aiplatform) (2025.7.14)\n",
      "Collecting httpcore==1.* (from httpx<1.0.0,>=0.28.1->google-genai<2.0.0,>=1.0.0->google-cloud-aiplatform)\n",
      "  Using cached httpcore-1.0.9-py3-none-any.whl.metadata (21 kB)\n",
      "Collecting h11>=0.16 (from httpcore==1.*->httpx<1.0.0,>=0.28.1->google-genai<2.0.0,>=1.0.0->google-cloud-aiplatform)\n",
      "  Using cached h11-0.16.0-py3-none-any.whl.metadata (8.3 kB)\n",
      "Collecting annotated-types>=0.6.0 (from pydantic<3->google-cloud-aiplatform)\n",
      "  Using cached annotated_types-0.7.0-py3-none-any.whl.metadata (15 kB)\n",
      "Collecting pydantic-core==2.33.2 (from pydantic<3->google-cloud-aiplatform)\n",
      "  Using cached pydantic_core-2.33.2-cp311-cp311-macosx_10_12_x86_64.whl.metadata (6.8 kB)\n",
      "Collecting typing-inspection>=0.4.0 (from pydantic<3->google-cloud-aiplatform)\n",
      "  Using cached typing_inspection-0.4.1-py3-none-any.whl.metadata (2.6 kB)\n",
      "Requirement already satisfied: six>=1.5 in /Users/milani/miniconda3/envs/carboncomputing/lib/python3.11/site-packages (from python-dateutil<3.0.0,>=2.8.2->google-cloud-bigquery!=3.20.0,<4.0.0,>=1.15.0->google-cloud-aiplatform) (1.17.0)\n",
      "Requirement already satisfied: charset_normalizer<4,>=2 in /Users/milani/miniconda3/envs/carboncomputing/lib/python3.11/site-packages (from requests<3.0.0,>=2.18.0->google-api-core!=2.0.*,!=2.1.*,!=2.2.*,!=2.3.*,!=2.4.*,!=2.5.*,!=2.6.*,!=2.7.*,<3.0.0,>=1.34.1->google-api-core[grpc]!=2.0.*,!=2.1.*,!=2.2.*,!=2.3.*,!=2.4.*,!=2.5.*,!=2.6.*,!=2.7.*,<3.0.0,>=1.34.1->google-cloud-aiplatform) (3.4.2)\n",
      "Requirement already satisfied: urllib3<3,>=1.21.1 in /Users/milani/miniconda3/envs/carboncomputing/lib/python3.11/site-packages (from requests<3.0.0,>=2.18.0->google-api-core!=2.0.*,!=2.1.*,!=2.2.*,!=2.3.*,!=2.4.*,!=2.5.*,!=2.6.*,!=2.7.*,<3.0.0,>=1.34.1->google-api-core[grpc]!=2.0.*,!=2.1.*,!=2.2.*,!=2.3.*,!=2.4.*,!=2.5.*,!=2.6.*,!=2.7.*,<3.0.0,>=1.34.1->google-cloud-aiplatform) (2.5.0)\n",
      "Requirement already satisfied: pyasn1>=0.1.3 in /Users/milani/miniconda3/envs/carboncomputing/lib/python3.11/site-packages (from rsa<5,>=3.1.4->google-auth<3.0.0,>=2.14.1->google-cloud-aiplatform) (0.6.1)\n",
      "Collecting numpy>=1.21 (from shapely<3.0.0->google-cloud-aiplatform)\n",
      "  Using cached numpy-2.3.1-cp311-cp311-macosx_14_0_x86_64.whl.metadata (62 kB)\n",
      "Downloading google_cloud_aiplatform-1.105.0-py2.py3-none-any.whl (7.9 MB)\n",
      "\u001b[2K   \u001b[90m━━━━━━━━━━━━━━━━━━━━━━━━━━━━━━━━━━━━━━━━\u001b[0m \u001b[32m7.9/7.9 MB\u001b[0m \u001b[31m7.8 MB/s\u001b[0m eta \u001b[36m0:00:00\u001b[0m00:01\u001b[0m00:01\u001b[0m\n",
      "\u001b[?25hDownloading docstring_parser-0.17.0-py3-none-any.whl (36 kB)\n",
      "Downloading google_cloud_resource_manager-1.14.2-py3-none-any.whl (394 kB)\n",
      "Downloading google_cloud_storage-2.19.0-py2.py3-none-any.whl (131 kB)\n",
      "Downloading google_genai-1.26.0-py3-none-any.whl (217 kB)\n",
      "Using cached anyio-4.9.0-py3-none-any.whl (100 kB)\n",
      "Downloading grpc_google_iam_v1-0.14.2-py3-none-any.whl (19 kB)\n",
      "Using cached httpx-0.28.1-py3-none-any.whl (73 kB)\n",
      "Using cached httpcore-1.0.9-py3-none-any.whl (78 kB)\n",
      "Using cached pydantic-2.11.7-py3-none-any.whl (444 kB)\n",
      "Using cached pydantic_core-2.33.2-cp311-cp311-macosx_10_12_x86_64.whl (2.0 MB)\n",
      "Downloading shapely-2.1.1-cp311-cp311-macosx_10_9_x86_64.whl (1.8 MB)\n",
      "\u001b[2K   \u001b[90m━━━━━━━━━━━━━━━━━━━━━━━━━━━━━━━━━━━━━━━━\u001b[0m \u001b[32m1.8/1.8 MB\u001b[0m \u001b[31m15.4 MB/s\u001b[0m eta \u001b[36m0:00:00\u001b[0m\n",
      "\u001b[?25hDownloading tenacity-8.5.0-py3-none-any.whl (28 kB)\n",
      "Downloading websockets-15.0.1-cp311-cp311-macosx_10_9_x86_64.whl (173 kB)\n",
      "Using cached annotated_types-0.7.0-py3-none-any.whl (13 kB)\n",
      "Using cached h11-0.16.0-py3-none-any.whl (37 kB)\n",
      "Using cached numpy-2.3.1-cp311-cp311-macosx_14_0_x86_64.whl (6.9 MB)\n",
      "Using cached sniffio-1.3.1-py3-none-any.whl (10 kB)\n",
      "Using cached typing_inspection-0.4.1-py3-none-any.whl (14 kB)\n",
      "Installing collected packages: websockets, typing-inspection, tenacity, sniffio, pydantic-core, numpy, h11, docstring_parser, annotated-types, shapely, pydantic, httpcore, anyio, httpx, grpc-google-iam-v1, google-genai, google-cloud-storage, google-cloud-resource-manager, google-cloud-aiplatform\n",
      "\u001b[2K   \u001b[90m━━━━━━━━━━━━━━━━━━━━━━━━━━━━━━━━━━━━━━━━\u001b[0m \u001b[32m19/19\u001b[0m [google-cloud-aiplatform]-cloud-aiplatform]ager]\n",
      "\u001b[1A\u001b[2KSuccessfully installed annotated-types-0.7.0 anyio-4.9.0 docstring_parser-0.17.0 google-cloud-aiplatform-1.105.0 google-cloud-resource-manager-1.14.2 google-cloud-storage-2.19.0 google-genai-1.26.0 grpc-google-iam-v1-0.14.2 h11-0.16.0 httpcore-1.0.9 httpx-0.28.1 numpy-2.3.1 pydantic-2.11.7 pydantic-core-2.33.2 shapely-2.1.1 sniffio-1.3.1 tenacity-8.5.0 typing-inspection-0.4.1 websockets-15.0.1\n"
     ]
    }
   ],
   "source": [
    "!pip install google-cloud-aiplatform --upgrade"
   ]
  },
  {
   "cell_type": "code",
   "execution_count": 16,
   "id": "bddf7b0c",
   "metadata": {},
   "outputs": [],
   "source": [
    "from google.cloud import aiplatform\n",
    "\n",
    "# Initialize vertex\n",
    "aiplatform.init(project = PROJECT_ID, location = REGION, credentials = credentials)"
   ]
  }
 ],
 "metadata": {
  "kernelspec": {
   "display_name": "Python 3 (ipykernel)",
   "language": "python",
   "name": "python3"
  },
  "language_info": {
   "codemirror_mode": {
    "name": "ipython",
    "version": 3
   },
   "file_extension": ".py",
   "mimetype": "text/x-python",
   "name": "python",
   "nbconvert_exporter": "python",
   "pygments_lexer": "ipython3",
   "version": "3.11.13"
  }
 },
 "nbformat": 4,
 "nbformat_minor": 5
}
