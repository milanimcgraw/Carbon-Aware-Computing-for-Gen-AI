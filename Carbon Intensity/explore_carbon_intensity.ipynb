{
 "cells": [
  {
   "cell_type": "markdown",
   "id": "fda9feb1",
   "metadata": {},
   "source": [
    "# Carbon Intensity on the Grid\n",
    "\n",
    "This notebook can be used to access real-time carbon intensity analysis of electrical grids worldwide. It demonstrates how to leverage the [Electricity Maps API](https://www.electricitymaps.com/free-tier-api) to analyze how carbon intensity varies across different regions and to make data-driven decisions about where and when to deploy machine learning workloads with a lower environmental impact.\n",
    " \n",
    "### Overview\n",
    "- **Real-time Carbon Monitoring**: access live carbon intensity data from global electrical grids\n",
    "- **Geographic Comparison**: compare carbon footprints across different regions and time zones\n",
    "- **Energy Source Analysis**: understand the renewable vs. fossil fuel mix powering different locations\n",
    "- **ML Training Optimization**: identify optimal locations for energy-intensive AI model training"
   ]
  },
  {
   "cell_type": "markdown",
   "id": "3c6233fd",
   "metadata": {},
   "source": [
    "## Setup Environment and Load API \n",
    "- Load environmemnt variables containing Electricity Maps API key. \n",
    "- Use a helper function to load the Electricity Maps API credentials securely from environment variables.\n"
   ]
  },
  {
   "cell_type": "code",
   "execution_count": null,
   "id": "602dfe5d-37f6-4580-800a-03111ad0d541",
   "metadata": {
    "height": 47
   },
   "outputs": [],
   "source": [
    "from helper import load_env\n",
    "load_env()"
   ]
  },
  {
   "cell_type": "markdown",
   "id": "cd20c065",
   "metadata": {},
   "source": [
    "## Location Coordinates\n",
    "Define the geographic coordinates for Los Angeles, California. These coordinates will be used to query the specific electrical grid zone `US-CAL-LDWP`.\n",
    "\n",
    "> Coordinates can be obtained through [Google Maps](https://www.google.com/maps)."
   ]
  },
  {
   "cell_type": "code",
   "execution_count": null,
   "id": "a9ee6f67-5204-4788-9d1b-ac0a99430f11",
   "metadata": {
    "height": 98
   },
   "outputs": [],
   "source": [
    "# Create a dictionary with the coordinates\n",
    "coordinates = {\n",
    "    \"lat\":34.00906474557528,\n",
    "    \"lon\": -118.4984580927553\n",
    "}"
   ]
  },
  {
   "cell_type": "markdown",
   "id": "180f160a",
   "metadata": {},
   "source": [
    "## Electricity Map's Live Carbon Intensity Endpoint\n",
    "\n",
    "Construct the REST API endpoint URL for retrieving live carbon intensity data. The endpoint uses latitude/longitude parameters to automatically determine the appropriate electrical grid zone.\n",
    "\n",
    "**API Endpoint**: `/v3/carbon-intensity/latest` - Returns the most recent carbon intensity measurement for the specified location."
   ]
  },
  {
   "cell_type": "code",
   "execution_count": null,
   "id": "0ce64337-fc26-4e2b-b65f-3c6012152103",
   "metadata": {
    "height": 98
   },
   "outputs": [
    {
     "name": "stdout",
     "output_type": "stream",
     "text": [
      "Endpoint: https://api.electricitymap.org/v3/carbon-intensity/latest?lat=34.00906474557528&lon=-118.4984580927553\n"
     ]
    }
   ],
   "source": [
    "# Build the url\n",
    "url= f\"https://api.electricitymap.org/v3/carbon-intensity/latest?lat={coordinates['lat']}&lon={coordinates['lon']}\"\n",
    "\n",
    "# Print the endpoint\n",
    "print(\"Endpoint: \" + str(url))"
   ]
  },
  {
   "cell_type": "markdown",
   "id": "1896fe7d",
   "metadata": {},
   "source": [
    "### Import Libraries"
   ]
  },
  {
   "cell_type": "code",
   "execution_count": 4,
   "id": "b9f244e1-4422-4cd1-9762-0dbf2e0574d9",
   "metadata": {
    "height": 47
   },
   "outputs": [],
   "source": [
    "import requests\n",
    "import helper"
   ]
  },
  {
   "cell_type": "markdown",
   "id": "ed1ed40c",
   "metadata": {},
   "source": [
    "### Carbon Intensity API Request\n",
    "\n",
    "Execute the HTTP GET request to the Electricity Maps API. \n",
    ">**Authentication**: Uses bearer token authentication via the `auth-token` header field. "
   ]
  },
  {
   "cell_type": "code",
   "execution_count": 5,
   "id": "42416461-5d7d-48eb-a127-91c5cd3dbe6d",
   "metadata": {
    "height": 64
   },
   "outputs": [],
   "source": [
    "request = requests.get(\n",
    "    url,\n",
    "    headers={\"auth-token\": helper.load_emaps_api_key()})"
   ]
  },
  {
   "cell_type": "markdown",
   "id": "c9f763f6",
   "metadata": {},
   "source": [
    "### Response \n",
    "\n",
    "Raw response format returned by the API. The data comes as `bytes`, which is more compact for network transmission but requires parsing for human readability.\n",
    "\n",
    "`<class 'bytes'>` - Raw binary data format that needs JSON parsing."
   ]
  },
  {
   "cell_type": "code",
   "execution_count": 6,
   "id": "945c64c6",
   "metadata": {
    "height": 64
   },
   "outputs": [
    {
     "data": {
      "text/plain": [
       "bytes"
      ]
     },
     "execution_count": 6,
     "metadata": {},
     "output_type": "execute_result"
    }
   ],
   "source": [
    "# This byte format is more compact\n",
    "request.content\n",
    "type(request.content)"
   ]
  },
  {
   "cell_type": "markdown",
   "id": "575d6227",
   "metadata": {},
   "source": [
    "## Carbon Intensity Data Parsing\n",
    "\n",
    "`import json` to parse the raw API responseinto a structured Python dictionary containing carbon intensity metrics and metadata.\n",
    "\n",
    "**Key Fields**:\n",
    "- `carbonIntensity`: 700 gCO2eq/kWh - The carbon emissions per kilowatt-hour\n",
    "- `zone`: 'US-CAL-LDWP' - Los Angeles Department of Water and Power grid zone\n",
    "- `datetime`: Timestamp of the measurement\n",
    "- `isEstimated`: Boolean indicating if the value is estimated vs. measured\n",
    "- `estimationMethod`: Algorithm used for estimation when real-time data unavailable"
   ]
  },
  {
   "cell_type": "code",
   "execution_count": 7,
   "id": "800e8a18-a9a1-4bcc-b1d0-37aadea63899",
   "metadata": {
    "height": 30
   },
   "outputs": [],
   "source": [
    "import json"
   ]
  },
  {
   "cell_type": "code",
   "execution_count": 8,
   "id": "e0ef54b3-931a-40cc-a462-ce2ea8bdf056",
   "metadata": {
    "height": 30
   },
   "outputs": [
    {
     "data": {
      "text/plain": [
       "{'zone': 'US-CAL-LDWP',\n",
       " 'carbonIntensity': 700,\n",
       " 'datetime': '2024-07-22T15:00:00.000Z',\n",
       " 'updatedAt': '2024-07-22T14:49:34.787Z',\n",
       " 'createdAt': '2024-07-19T15:46:30.525Z',\n",
       " 'emissionFactorType': 'lifecycle',\n",
       " 'isEstimated': True,\n",
       " 'estimationMethod': 'TIME_SLICER_AVERAGE'}"
      ]
     },
     "execution_count": 8,
     "metadata": {},
     "output_type": "execute_result"
    }
   ],
   "source": [
    "json.loads(request.content)"
   ]
  },
  {
   "cell_type": "markdown",
   "id": "5771a717",
   "metadata": {},
   "source": [
    "## Live Power Breakdown Endpoint\n",
    "\n",
    "Construct the API endpoint for retrieving detailed power generation breakdown by source type (solar, wind, gas, coal, etc.).\n",
    "\n",
    "**API Endpoint**: `/v3/power-breakdown/latest` - Returns the energy mix composition for the specified grid zone."
   ]
  },
  {
   "cell_type": "code",
   "execution_count": 9,
   "id": "3002e353-003b-48c2-9d47-fb0672eed6bd",
   "metadata": {
    "height": 47
   },
   "outputs": [],
   "source": [
    "# Build the url\n",
    "url = f\"https://api.electricitymap.org/v3/power-breakdown/latest?lat={coordinates['lat']}&lon={coordinates['lon']}\""
   ]
  },
  {
   "cell_type": "code",
   "execution_count": 10,
   "id": "21bf397d-59e5-49af-a51a-6d9a9517a87b",
   "metadata": {
    "height": 30
   },
   "outputs": [
    {
     "name": "stdout",
     "output_type": "stream",
     "text": [
      "https://api.electricitymap.org/v3/power-breakdown/latest?lat=34.00906474557528&lon=-118.4984580927553\n"
     ]
    }
   ],
   "source": [
    "print(url)"
   ]
  },
  {
   "cell_type": "markdown",
   "id": "c67615c3",
   "metadata": {},
   "source": [
    "#### Execute the HTTP request to retrieve detailed power generation breakdown data from the same grid zone."
   ]
  },
  {
   "cell_type": "code",
   "execution_count": 11,
   "id": "b043cc11-943e-4257-b07f-f3443c33e9d0",
   "metadata": {
    "height": 64
   },
   "outputs": [],
   "source": [
    "request = requests.get(\n",
    "    url,\n",
    "    headers={\"auth-token\": helper.load_emaps_api_key()})"
   ]
  },
  {
   "cell_type": "markdown",
   "id": "e086fa42",
   "metadata": {},
   "source": [
    "## Power Breakdown Data Analysis\n",
    "\n",
    "Parse and display the comprehensive power generation breakdown, revealing the energy source composition of the electrical grid.\n",
    "\n",
    "**Output Insights**:\n",
    "- **100% Unknown Sources**: All 219 MW consumption is categorized as \"unknown\"\n",
    "- **0% Renewable**: No renewable energy sources detected\n",
    "- **Grid Limitation**: This specific zone (US-CAL-LDWP) has limited data granularity"
   ]
  },
  {
   "cell_type": "code",
   "execution_count": 12,
   "id": "d59b6fff-a851-45ff-8b3e-9bb7a987bebf",
   "metadata": {
    "height": 81
   },
   "outputs": [
    {
     "data": {
      "text/plain": [
       "{'zone': 'US-CAL-LDWP',\n",
       " 'datetime': '2024-07-22T15:00:00.000Z',\n",
       " 'updatedAt': '2024-07-22T14:49:34.787Z',\n",
       " 'createdAt': '2024-07-19T15:46:30.525Z',\n",
       " 'powerConsumptionBreakdown': {'nuclear': 0,\n",
       "  'geothermal': 0,\n",
       "  'biomass': 0,\n",
       "  'coal': 0,\n",
       "  'wind': 0,\n",
       "  'solar': 0,\n",
       "  'hydro': 0,\n",
       "  'gas': 0,\n",
       "  'oil': 0,\n",
       "  'unknown': 219,\n",
       "  'hydro discharge': 0,\n",
       "  'battery discharge': 0},\n",
       " 'powerProductionBreakdown': {'nuclear': None,\n",
       "  'geothermal': None,\n",
       "  'biomass': None,\n",
       "  'coal': None,\n",
       "  'wind': None,\n",
       "  'solar': None,\n",
       "  'hydro': None,\n",
       "  'gas': None,\n",
       "  'oil': None,\n",
       "  'unknown': 219,\n",
       "  'hydro discharge': None,\n",
       "  'battery discharge': None},\n",
       " 'powerImportBreakdown': {},\n",
       " 'powerExportBreakdown': {},\n",
       " 'fossilFreePercentage': 0,\n",
       " 'renewablePercentage': 0,\n",
       " 'powerConsumptionTotal': 219,\n",
       " 'powerProductionTotal': 219,\n",
       " 'powerImportTotal': None,\n",
       " 'powerExportTotal': None,\n",
       " 'isEstimated': True,\n",
       " 'estimationMethod': 'TIME_SLICER_AVERAGE'}"
      ]
     },
     "execution_count": 12,
     "metadata": {},
     "output_type": "execute_result"
    }
   ],
   "source": [
    "power_breakdown = json.loads(request.content)\n",
    "\n",
    "# Print the content\n",
    "power_breakdown"
   ]
  },
  {
   "cell_type": "markdown",
   "id": "9b79e401",
   "metadata": {},
   "source": [
    "## Renewable Energy Metrics\n",
    "\n",
    ">**Renewable Percentage**: 0% indicates no renewable energy in the current mix"
   ]
  },
  {
   "cell_type": "code",
   "execution_count": 13,
   "id": "2cd3ed06-9b38-4d25-bb7e-264a1f5d2567",
   "metadata": {
    "height": 30
   },
   "outputs": [
    {
     "data": {
      "text/plain": [
       "0"
      ]
     },
     "execution_count": 13,
     "metadata": {},
     "output_type": "execute_result"
    }
   ],
   "source": [
    "power_breakdown['renewablePercentage']"
   ]
  },
  {
   "cell_type": "markdown",
   "id": "a3cad528",
   "metadata": {},
   "source": [
    "> **Fossil Free Percentage**: 0% indicates complete reliance on fossil fuels or unknown sources"
   ]
  },
  {
   "cell_type": "code",
   "execution_count": 14,
   "id": "c4af92e5-46fd-4e19-9524-15087d57db0e",
   "metadata": {
    "height": 30
   },
   "outputs": [
    {
     "data": {
      "text/plain": [
       "0"
      ]
     },
     "execution_count": 14,
     "metadata": {},
     "output_type": "execute_result"
    }
   ],
   "source": [
    "power_breakdown['fossilFreePercentage']"
   ]
  },
  {
   "cell_type": "markdown",
   "id": "cae17201",
   "metadata": {},
   "source": [
    ">**Consumption Breakdown**: Shows 219 MegaWatts total consumption, all from unknown sources"
   ]
  },
  {
   "cell_type": "code",
   "execution_count": 15,
   "id": "8afc2237-fb73-4820-bc2f-e75c80904c1a",
   "metadata": {
    "height": 47
   },
   "outputs": [
    {
     "data": {
      "text/plain": [
       "{'nuclear': 0,\n",
       " 'geothermal': 0,\n",
       " 'biomass': 0,\n",
       " 'coal': 0,\n",
       " 'wind': 0,\n",
       " 'solar': 0,\n",
       " 'hydro': 0,\n",
       " 'gas': 0,\n",
       " 'oil': 0,\n",
       " 'unknown': 219,\n",
       " 'hydro discharge': 0,\n",
       " 'battery discharge': 0}"
      ]
     },
     "execution_count": 15,
     "metadata": {},
     "output_type": "execute_result"
    }
   ],
   "source": [
    "# Power Consumption Breakdown in MegaWatts\n",
    "power_breakdown['powerConsumptionBreakdown']"
   ]
  },
  {
   "cell_type": "markdown",
   "id": "d745747b",
   "metadata": {},
   "source": [
    "## Consumption Percentage Calculation\n",
    "\n",
    "Calculate the percentage contribution of each energy source to total consumption, providing a normalized view of the energy mix.\n",
    "\n",
    "**Result**: 100% unknown sources, indicating data limitations for this specific grid zone."
   ]
  },
  {
   "cell_type": "code",
   "execution_count": 16,
   "id": "9da7b057-860c-4fcb-a586-3545a4935235",
   "metadata": {
    "height": 30
   },
   "outputs": [],
   "source": [
    "import numpy as np"
   ]
  },
  {
   "cell_type": "code",
   "execution_count": 17,
   "id": "063e7626-ac4b-4e55-9b48-e13ea5833c12",
   "metadata": {
    "height": 30
   },
   "outputs": [],
   "source": [
    "total_consumption = power_breakdown['powerConsumptionTotal']"
   ]
  },
  {
   "cell_type": "code",
   "execution_count": 18,
   "id": "23479db7-45bc-4636-8973-920e8b794106",
   "metadata": {
    "height": 30
   },
   "outputs": [
    {
     "data": {
      "text/plain": [
       "219"
      ]
     },
     "execution_count": 18,
     "metadata": {},
     "output_type": "execute_result"
    }
   ],
   "source": [
    "total_consumption"
   ]
  },
  {
   "cell_type": "markdown",
   "id": "6bede2cf",
   "metadata": {},
   "source": [
    "## Reusable Power Statistics Function\n",
    "\n",
    "Create a reusable function that combines both carbon intensity and power breakdown queries into a single, convenient interface.\n",
    "\n",
    "**Function Features**:\n",
    "- **Dual API Calls**: Retrieves both carbon intensity and power breakdown data\n",
    "- **Data Processing**: Calculates percentage breakdowns automatically\n",
    "- **Clean Interface**: Returns structured data for easy analysis\n",
    "- **Error Handling**: Built-in API key management"
   ]
  },
  {
   "cell_type": "code",
   "execution_count": 19,
   "id": "8e6a3639-0a8f-4a7e-b02d-0cc18737778e",
   "metadata": {
    "height": 98
   },
   "outputs": [
    {
     "data": {
      "text/plain": [
       "{'nuclear': 0.0,\n",
       " 'geothermal': 0.0,\n",
       " 'biomass': 0.0,\n",
       " 'coal': 0.0,\n",
       " 'wind': 0.0,\n",
       " 'solar': 0.0,\n",
       " 'hydro': 0.0,\n",
       " 'gas': 0.0,\n",
       " 'oil': 0.0,\n",
       " 'unknown': 100.0,\n",
       " 'hydro discharge': 0.0,\n",
       " 'battery discharge': 0.0}"
      ]
     },
     "execution_count": 19,
     "metadata": {},
     "output_type": "execute_result"
    }
   ],
   "source": [
    "consumption_percent = {\n",
    "    k: np.round((v/total_consumption) * 100)\n",
    "    for k,v\n",
    "    in power_breakdown['powerConsumptionBreakdown'].items()}\n",
    "consumption_percent"
   ]
  },
  {
   "cell_type": "markdown",
   "id": "45d80161",
   "metadata": {},
   "source": [
    "## Taiwan Case Study\n",
    "\n",
    "Demonstrate the `power_stats` helper function with Taiwan's electrical grid as a comparative case study.\n",
    "\n",
    "#### Grid Analysis:\n",
    "- **Carbon Intensity**: 570 gCO2eq/kWh (lower than Los Angeles)\n",
    "- **Energy Mix**: 50% natural gas, 34% coal, 5% nuclear\n",
    "- **Renewable Share**: 5% (wind + hydro + solar)\n",
    "- **Total Consumption**: ~34 GW across all sources\n",
    "\n",
    "**Implications**:\n",
    "- Taiwan shows significantly more detailed data than the LA zone\n",
    "- Heavy reliance on fossil fuels (84% gas + coal combined)\n",
    "- Limited but measurable renewable energy contribution\n",
    "- Nuclear power provides 5% of the energy mix"
   ]
  },
  {
   "cell_type": "code",
   "execution_count": 20,
   "id": "cc958713-b0b1-4052-8102-18ac54c6ccea",
   "metadata": {
    "height": 421
   },
   "outputs": [],
   "source": [
    "import helper, requests, json, numpy as np\n",
    "def power_stats(lat,lon, api_key=helper.load_emaps_api_key()):\n",
    "    coordinates = { \"lat\": lat, \"lon\": lon }\n",
    "\n",
    "    url_intensity = f\"https://api.electricitymap.org/v3/carbon-intensity/latest?lat={coordinates['lat']}&lon={coordinates['lon']}\"\n",
    "    request_intensity = requests.get(url_intensity, headers={\"auth-token\": api_key})\n",
    "    intensity = json.loads(request_intensity.content)\n",
    "\n",
    "    url_breakdown = f\"https://api.electricitymap.org/v3/power-breakdown/latest?lat={coordinates['lat']}&lon={coordinates['lon']}\"\n",
    "    request_breakdown = requests.get(url_breakdown, headers={\"auth-token\": api_key})\n",
    "    breakdown = json.loads(request_breakdown.content)\n",
    "\n",
    "    breakdown_abridged = {\n",
    "        'renewablePercentage': breakdown['renewablePercentage'],\n",
    "        'fossilFreePercentage': breakdown['fossilFreePercentage'],\n",
    "        'powerConsumptionBreakdown': breakdown['powerConsumptionBreakdown'],\n",
    "        'consumption_percent': {\n",
    "            k: np.round((v/breakdown['powerConsumptionTotal']) * 100) \n",
    "            for k, v \n",
    "            in breakdown['powerConsumptionBreakdown'].items()\n",
    "        },\n",
    "    }\n",
    "    \n",
    "    return intensity, breakdown_abridged"
   ]
  },
  {
   "cell_type": "code",
   "execution_count": 21,
   "id": "bf999bac-2878-4c88-af91-6be919c37115",
   "metadata": {
    "height": 81
   },
   "outputs": [],
   "source": [
    "# Coordinates from a landmark in Taiwan\n",
    "intensity, breakdown = power_stats(\n",
    "    lat=25.0356575108668,\n",
    "    lon=121.52010809479746)"
   ]
  },
  {
   "cell_type": "code",
   "execution_count": 22,
   "id": "ea3d6ea9-1a0d-4226-8afc-9e6652040919",
   "metadata": {
    "height": 30
   },
   "outputs": [
    {
     "data": {
      "text/plain": [
       "{'zone': 'TW',\n",
       " 'carbonIntensity': 570,\n",
       " 'datetime': '2024-07-22T15:00:00.000Z',\n",
       " 'updatedAt': '2024-07-22T14:49:34.787Z',\n",
       " 'createdAt': '2024-07-19T15:46:17.152Z',\n",
       " 'emissionFactorType': 'lifecycle',\n",
       " 'isEstimated': True,\n",
       " 'estimationMethod': 'TIME_SLICER_AVERAGE'}"
      ]
     },
     "execution_count": 22,
     "metadata": {},
     "output_type": "execute_result"
    }
   ],
   "source": [
    "intensity"
   ]
  },
  {
   "cell_type": "code",
   "execution_count": 23,
   "id": "e1ce94fa-8103-4b11-9c6e-9da06143fa54",
   "metadata": {
    "height": 30
   },
   "outputs": [
    {
     "data": {
      "text/plain": [
       "{'renewablePercentage': 5,\n",
       " 'fossilFreePercentage': 9,\n",
       " 'powerConsumptionBreakdown': {'nuclear': 1637,\n",
       "  'geothermal': 2,\n",
       "  'biomass': 20,\n",
       "  'coal': 11426,\n",
       "  'wind': 401,\n",
       "  'solar': 0,\n",
       "  'hydro': 1154,\n",
       "  'gas': 16907,\n",
       "  'oil': 933,\n",
       "  'unknown': 1386,\n",
       "  'hydro discharge': 0,\n",
       "  'battery discharge': 0},\n",
       " 'consumption_percent': {'nuclear': 5.0,\n",
       "  'geothermal': 0.0,\n",
       "  'biomass': 0.0,\n",
       "  'coal': 34.0,\n",
       "  'wind': 1.0,\n",
       "  'solar': 0.0,\n",
       "  'hydro': 3.0,\n",
       "  'gas': 50.0,\n",
       "  'oil': 3.0,\n",
       "  'unknown': 4.0,\n",
       "  'hydro discharge': 0.0,\n",
       "  'battery discharge': 0.0}}"
      ]
     },
     "execution_count": 23,
     "metadata": {},
     "output_type": "execute_result"
    }
   ],
   "source": [
    "breakdown"
   ]
  }
 ],
 "metadata": {
  "kernelspec": {
   "display_name": "Python 3 (ipykernel)",
   "language": "python",
   "name": "python3"
  },
  "language_info": {
   "codemirror_mode": {
    "name": "ipython",
    "version": 3
   },
   "file_extension": ".py",
   "mimetype": "text/x-python",
   "name": "python",
   "nbconvert_exporter": "python",
   "pygments_lexer": "ipython3",
   "version": "3.10.14"
  }
 },
 "nbformat": 4,
 "nbformat_minor": 5
}
